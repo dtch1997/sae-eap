{
 "cells": [
  {
   "cell_type": "code",
   "execution_count": 1,
   "metadata": {},
   "outputs": [
    {
     "name": "stderr",
     "output_type": "stream",
     "text": [
      "/home/daniel/ml_workspace/sae-eap/.venv/lib/python3.11/site-packages/tqdm/auto.py:21: TqdmWarning: IProgress not found. Please update jupyter and ipywidgets. See https://ipywidgets.readthedocs.io/en/stable/user_install.html\n",
      "  from .autonotebook import tqdm as notebook_tqdm\n",
      "/home/daniel/ml_workspace/sae-eap/.venv/lib/python3.11/site-packages/huggingface_hub/file_download.py:1132: FutureWarning: `resume_download` is deprecated and will be removed in version 1.0.0. Downloads always resume when possible. If you want to force a new download, use `force_download=True`.\n",
      "  warnings.warn(\n"
     ]
    },
    {
     "name": "stdout",
     "output_type": "stream",
     "text": [
      "Loaded pretrained model gpt2 into HookedTransformer\n"
     ]
    }
   ],
   "source": [
    "# Load model\n",
    "\n",
    "from sae_eap.model.load_pretrained import load_model\n",
    "\n",
    "model = load_model('gpt2')"
   ]
  },
  {
   "cell_type": "code",
   "execution_count": 2,
   "metadata": {},
   "outputs": [
    {
     "name": "stdout",
     "output_type": "stream",
     "text": [
      "SinglePromptHandler(\n",
      "    clean_prompt=When John and Mary went to the shops, John gave a bag to,\n",
      "    corrupt_prompt= When Alice and Bob went to the shops, Charlie gave a bag to,\n",
      "    answer= Mary,\n",
      "    wrong_answer= John\n",
      ")\n"
     ]
    }
   ],
   "source": [
    "# Make data handler\n",
    "\n",
    "from sae_eap.data.ioi import make_ioi_single\n",
    "\n",
    "handler = make_ioi_single(model)\n",
    "print(handler)"
   ]
  },
  {
   "cell_type": "code",
   "execution_count": 3,
   "metadata": {},
   "outputs": [],
   "source": [
    "# Build graph\n",
    "from sae_eap.graph import build\n",
    "\n",
    "graph = build.build_graph(model)"
   ]
  },
  {
   "cell_type": "code",
   "execution_count": 4,
   "metadata": {},
   "outputs": [
    {
     "name": "stderr",
     "output_type": "stream",
     "text": [
      "0it [00:00, ?it/s]"
     ]
    },
    {
     "name": "stderr",
     "output_type": "stream",
     "text": [
      "1it [00:00,  1.82it/s]\n",
      "100%|██████████| 32491/32491 [00:00<00:00, 1303887.74it/s]\n"
     ]
    }
   ],
   "source": [
    "# Run attribution\n",
    "from sae_eap.runner import run_attribution\n",
    "\n",
    "attribution = run_attribution(model, graph, handler)"
   ]
  },
  {
   "cell_type": "code",
   "execution_count": 5,
   "metadata": {},
   "outputs": [
    {
     "name": "stdout",
     "output_type": "stream",
     "text": [
      "601\n",
      "29539\n",
      "602\n",
      "32491\n"
     ]
    }
   ],
   "source": [
    "# Prune graph\n",
    "from sae_eap.prune import PruningPipeline, ThresholdEdgePruner, DeadNodePruner\n",
    "\n",
    "model_graph = graph.copy()\n",
    "pipeline = PruningPipeline([\n",
    "    ThresholdEdgePruner(0.01),\n",
    "    DeadNodePruner()\n",
    "])\n",
    "pipeline.prune(graph, attribution)\n",
    "circuit_graph = graph\n",
    "\n",
    "print(len(circuit_graph.nodes))\n",
    "print(len(circuit_graph.edges))\n",
    "print(len(model_graph.nodes))\n",
    "print(len(model_graph.edges))"
   ]
  },
  {
   "cell_type": "code",
   "execution_count": 6,
   "metadata": {},
   "outputs": [],
   "source": [
    "# Visualize graph"
   ]
  },
  {
   "cell_type": "code",
   "execution_count": 7,
   "metadata": {},
   "outputs": [
    {
     "name": "stdout",
     "output_type": "stream",
     "text": [
      "[0.19197118282318115]\n"
     ]
    }
   ],
   "source": [
    "# Run ablation\n",
    "from sae_eap.runner import run_ablation\n",
    "\n",
    "faithfulness = run_ablation(model, circuit_graph, model_graph, handler)\n",
    "print(faithfulness)"
   ]
  },
  {
   "cell_type": "markdown",
   "metadata": {},
   "source": [
    "# Experiments"
   ]
  },
  {
   "cell_type": "code",
   "execution_count": 9,
   "metadata": {},
   "outputs": [
    {
     "name": "stdout",
     "output_type": "stream",
     "text": [
      "Top 10 edges: faithfulness=-3.9571\n",
      "Top 50 edges: faithfulness=-3.9571\n",
      "Top 100 edges: faithfulness=-3.9571\n",
      "Top 200 edges: faithfulness=-3.9571\n",
      "Top 500 edges: faithfulness=-3.9571\n",
      "Top 1000 edges: faithfulness=-3.9571\n"
     ]
    }
   ],
   "source": [
    "# Plot faithfulness curve\n",
    "\n",
    "# Prune graph\n",
    "from sae_eap.prune import PruningPipeline, TopNEdgePruner, DeadNodePruner\n",
    "\n",
    "model_graph = build.build_graph(model)\n",
    "graph = model_graph.copy()\n",
    "for k_edges in (10, 50, 100, 200, 500, 1000):\n",
    "    pipeline = PruningPipeline([\n",
    "        TopNEdgePruner(k_edges),\n",
    "        DeadNodePruner()\n",
    "    ])\n",
    "    pipeline.prune(graph, attribution)\n",
    "    circuit_graph = graph\n",
    "\n",
    "    faithfulness = run_ablation(model, circuit_graph, model_graph, handler)[0]\n",
    "    print(f\"Top {k_edges} edges: faithfulness={faithfulness:.4f}\")"
   ]
  }
 ],
 "metadata": {
  "kernelspec": {
   "display_name": ".venv",
   "language": "python",
   "name": "python3"
  },
  "language_info": {
   "codemirror_mode": {
    "name": "ipython",
    "version": 3
   },
   "file_extension": ".py",
   "mimetype": "text/x-python",
   "name": "python",
   "nbconvert_exporter": "python",
   "pygments_lexer": "ipython3",
   "version": "3.11.9"
  }
 },
 "nbformat": 4,
 "nbformat_minor": 2
}

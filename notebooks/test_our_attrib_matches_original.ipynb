{
 "cells": [
  {
   "cell_type": "code",
   "execution_count": 1,
   "metadata": {},
   "outputs": [
    {
     "name": "stderr",
     "output_type": "stream",
     "text": [
      "/home/daniel/ml_workspace/sae-eap/.venv/lib/python3.11/site-packages/tqdm/auto.py:21: TqdmWarning: IProgress not found. Please update jupyter and ipywidgets. See https://ipywidgets.readthedocs.io/en/stable/user_install.html\n",
      "  from .autonotebook import tqdm as notebook_tqdm\n",
      "/home/daniel/ml_workspace/sae-eap/.venv/lib/python3.11/site-packages/huggingface_hub/file_download.py:1132: FutureWarning: `resume_download` is deprecated and will be removed in version 1.0.0. Downloads always resume when possible. If you want to force a new download, use `force_download=True`.\n",
      "  warnings.warn(\n"
     ]
    },
    {
     "name": "stdout",
     "output_type": "stream",
     "text": [
      "Loaded pretrained model gpt2 into HookedTransformer\n"
     ]
    }
   ],
   "source": [
    "# Compute attribution for the greater-than dataset. \n",
    "\n",
    "from sae_eap.model.load_pretrained import load_model\n",
    "\n",
    "model = load_model('gpt2')"
   ]
  },
  {
   "cell_type": "code",
   "execution_count": 2,
   "metadata": {},
   "outputs": [],
   "source": [
    "from sae_eap.data.gt import GreaterThanHandler\n",
    "\n",
    "handler = GreaterThanHandler(model)"
   ]
  },
  {
   "cell_type": "code",
   "execution_count": 3,
   "metadata": {},
   "outputs": [],
   "source": [
    "from sae_eap.data.gt import EAPDataset\n",
    "\n",
    "ds = EAPDataset(\"greater_than_data.csv\")\n",
    "dataloader = ds.to_dataloader(12)"
   ]
  },
  {
   "cell_type": "code",
   "execution_count": 4,
   "metadata": {},
   "outputs": [],
   "source": [
    "for batch in dataloader:\n",
    "    with handler.handle(*batch):\n",
    "        logits = handler.get_logits(model)\n",
    "        metric = handler.get_metric(logits)"
   ]
  },
  {
   "cell_type": "code",
   "execution_count": 5,
   "metadata": {},
   "outputs": [
    {
     "name": "stderr",
     "output_type": "stream",
     "text": [
      "/home/daniel/ml_workspace/sae-eap/.venv/lib/python3.11/site-packages/huggingface_hub/file_download.py:1132: FutureWarning: `resume_download` is deprecated and will be removed in version 1.0.0. Downloads always resume when possible. If you want to force a new download, use `force_download=True`.\n",
      "  warnings.warn(\n"
     ]
    }
   ],
   "source": [
    "from sae_eap.graph import build\n",
    "\n",
    "graph = build.build_graph(model)"
   ]
  },
  {
   "cell_type": "code",
   "execution_count": 6,
   "metadata": {},
   "outputs": [
    {
     "name": "stderr",
     "output_type": "stream",
     "text": [
      "84it [00:14,  5.74it/s]\n",
      "100%|██████████| 32491/32491 [00:00<00:00, 812862.02it/s]\n"
     ]
    }
   ],
   "source": [
    "from sae_eap.attribute import run_attribution\n",
    "\n",
    "def iter_batch_handler(handler, dataloader):\n",
    "    for batch in dataloader:\n",
    "        with handler.handle(*batch):\n",
    "            yield handler\n",
    "\n",
    "\n",
    "attribution = run_attribution(model, graph, iter_batch_handler(handler, dataloader))"
   ]
  },
  {
   "cell_type": "markdown",
   "metadata": {},
   "source": [
    "# Analysis"
   ]
  },
  {
   "cell_type": "code",
   "execution_count": 7,
   "metadata": {},
   "outputs": [],
   "source": [
    "# Load the original scores\n",
    "\n",
    "from sae_eap.core.constants import ProjectDir\n",
    "from sae_eap.attribute import load_attribution_scores\n",
    "\n",
    "orig_scores = load_attribution_scores(ProjectDir / \"examples\" / \"eap_ig\", \"eap_scores_gt_orig.pkl\")"
   ]
  },
  {
   "cell_type": "code",
   "execution_count": 10,
   "metadata": {},
   "outputs": [
    {
     "name": "stdout",
     "output_type": "stream",
     "text": [
      "32491\n",
      "32491\n"
     ]
    }
   ],
   "source": [
    "print(len(attribution))\n",
    "print(len(orig_scores))"
   ]
  },
  {
   "cell_type": "code",
   "execution_count": 12,
   "metadata": {},
   "outputs": [
    {
     "name": "stdout",
     "output_type": "stream",
     "text": [
      "('input->a0.h0<q>', 1.3457457e-05) ('SrcNode(Input, hook_embed)->AttentionDestNode(ATT.L0.H0.in_q, blocks.0.hook_q_input, head=0)', 8.827974e-06)\n",
      "('input->a0.h0<k>', -6.0731327e-05) ('SrcNode(Input, hook_embed)->AttentionDestNode(ATT.L0.H1.in_q, blocks.0.hook_q_input, head=1)', -8.026957e-06)\n",
      "('input->a0.h0<v>', 4.3784344e-06) ('SrcNode(Input, hook_embed)->AttentionDestNode(ATT.L0.H2.in_q, blocks.0.hook_q_input, head=2)', -3.0595264e-05)\n",
      "('input->a0.h1<q>', 2.8602844e-05) ('SrcNode(Input, hook_embed)->AttentionDestNode(ATT.L0.H3.in_q, blocks.0.hook_q_input, head=3)', -6.20296e-06)\n",
      "('input->a0.h1<k>', 3.7241254e-05) ('SrcNode(Input, hook_embed)->AttentionDestNode(ATT.L0.H4.in_q, blocks.0.hook_q_input, head=4)', 1.3575681e-05)\n"
     ]
    }
   ],
   "source": [
    "i = 0 \n",
    "for orig, attr in zip(orig_scores.items(), attribution.items()):\n",
    "    print (orig, attr)\n",
    "    i += 1\n",
    "    if i >= 5:\n",
    "        break"
   ]
  },
  {
   "cell_type": "code",
   "execution_count": 8,
   "metadata": {},
   "outputs": [
    {
     "data": {
      "text/plain": [
       "<matplotlib.legend.Legend at 0x7b695d021bd0>"
      ]
     },
     "execution_count": 8,
     "metadata": {},
     "output_type": "execute_result"
    },
    {
     "data": {
      "image/png": "[encoded data removed]",
      "text/plain": [
       "<Figure size 640x480 with 1 Axes>"
      ]
     },
     "metadata": {},
     "output_type": "display_data"
    }
   ],
   "source": [
    "# Plot the distribution of scores. \n",
    "\n",
    "import matplotlib.pyplot as plt \n",
    "\n",
    "fig, ax = plt.subplots()\n",
    "ax.hist(orig_scores.values(), bins=100, log=True, label=\"Original\")\n",
    "ax.hist(attribution.values(), bins=100, log=True, label=\"Ours\")\n",
    "ax.legend()"
   ]
  },
  {
   "cell_type": "code",
   "execution_count": 9,
   "metadata": {},
   "outputs": [
    {
     "name": "stdout",
     "output_type": "stream",
     "text": [
      "0.015274026\n",
      "0.0003802104\n",
      "-0.008004578\n",
      "-0.0028547228\n"
     ]
    }
   ],
   "source": [
    "print(max(orig_scores.values()))\n",
    "print(max(attribution.values()))\n",
    "\n",
    "print(min(orig_scores.values()))\n",
    "print(min(attribution.values()))"
   ]
  }
 ],
 "metadata": {
  "kernelspec": {
   "display_name": ".venv",
   "language": "python",
   "name": "python3"
  },
  "language_info": {
   "codemirror_mode": {
    "name": "ipython",
    "version": 3
   },
   "file_extension": ".py",
   "mimetype": "text/x-python",
   "name": "python",
   "nbconvert_exporter": "python",
   "pygments_lexer": "ipython3",
   "version": "3.11.9"
  }
 },
 "nbformat": 4,
 "nbformat_minor": 2
}
